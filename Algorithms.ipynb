{
 "cells": [
  {
   "cell_type": "markdown",
   "metadata": {},
   "source": [
    "# Algorithms\n",
    "---"
   ]
  },
  {
   "cell_type": "markdown",
   "metadata": {},
   "source": [
    "## Quicksort\n",
    "Divide and conquer strategy using pivots.  \n",
    "- Performance based on pivot value\n",
    "- Worst case: O(n^2)\n",
    "- Average case: O(nlog(n))  \n",
    "\n",
    "\n",
    "I couldn't really understand my notes from\n",
    "class so I'm trying to walk through an example \n",
    "by annotating it."
   ]
  },
  {
   "cell_type": "code",
   "execution_count": 10,
   "metadata": {
    "pycharm": {
     "is_executing": false,
     "name": "#%%\n"
    }
   },
   "outputs": [
    {
     "name": "stdout",
     "output_type": "stream",
     "text": [
      "original list:  [3, 21, 5, 3, 6, 7, 8, 2, 3, 5, 1, 24, 0]\n",
      "pointer -1\n",
      "pointer 0\n",
      "pointer 0\n",
      "pointer 3\n",
      "pointer 4\n",
      "pointer 4\n",
      "pointer 8\n",
      "pointer 9\n",
      "pointer 10\n",
      "sorted list:  [0, 1, 2, 3, 3, 3, 5, 5, 6, 7, 8, 21, 24]\n"
     ]
    }
   ],
   "source": [
    "def partition(arr, first, last):\n",
    "    pivot = arr[last]\n",
    "    pointer = first-1\n",
    "    \n",
    "    for i in range(first, last):\n",
    "        # If current element < pivot\n",
    "        if arr[i] < pivot:\n",
    "            pointer += 1 # Increment pointer\n",
    "            # Swap element at pointer with current element so every \n",
    "            # element left of the pointer is less than the pivot.\n",
    "            arr[pointer], arr[i] = arr[i], arr[pointer] \n",
    "    # Swap element after pointer with pivot\n",
    "    arr[pointer+1], arr[last] = arr[last], arr[pointer+1]\n",
    "    return pointer+1\n",
    "\n",
    "def quicksort(arr, first, last):\n",
    "    # Recursively call quicksort until first == last\n",
    "    if first < last:\n",
    "        part = partition(arr, first, last)\n",
    "        # Sort elements before and after partition separately\n",
    "        quicksort(arr, first, part-1)\n",
    "        quicksort(arr, part+1, last)\n",
    "        \n",
    "def test():\n",
    "    a = [3,21,5,3,6,7,8,2,3,5,1,24,0]\n",
    "    n = len(a)-1\n",
    "    print(\"original list: \", a)\n",
    "    quicksort(a, 0, n)\n",
    "    print(\"sorted list: \", a)\n",
    "test()"
   ]
  },
  {
   "cell_type": "markdown",
   "metadata": {},
   "source": [
    "## Mergesort\n",
    "Using recursion divide the list in half until the smallest components are\n",
    "found. Merge the components and sort up to the full list.  \n",
    "- Best/worst: O(nlog(n))"
   ]
  },
  {
   "cell_type": "code",
   "execution_count": 4,
   "metadata": {
    "pycharm": {
     "is_executing": false,
     "name": "#%%\n"
    }
   },
   "outputs": [
    {
     "name": "stdout",
     "output_type": "stream",
     "text": [
      "original list:  [3, 21, 5, 3, 6, 7, 8, 2, 3, 5, 1, 24, 0]\n",
      "sorted list:  [0, 1, 2, 3, 3, 3, 5, 5, 6, 7, 8, 21, 24]\n"
     ]
    }
   ],
   "source": [
    "def mergesort(arr):\n",
    "    \n",
    "    if len(arr) <= 1:\n",
    "        return arr\n",
    "    # Divide list\n",
    "    mid = len(arr)//2\n",
    "    # Recursively divide arr\n",
    "    left = mergesort(arr[:mid])\n",
    "    right = mergesort(arr[mid:])\n",
    "    return merge(left, right)\n",
    "    \n",
    "def merge(left, right):\n",
    "    ret = []\n",
    "    lt = 0 # Used to iterate through left and right\n",
    "    rt = 0\n",
    "    # Sort elements by comparison\n",
    "    while lt < len(left) and rt < len(right):\n",
    "        if left[lt] < right[rt]:\n",
    "            ret.append(left[lt])\n",
    "            lt += 1\n",
    "        else:\n",
    "            ret.append(right[rt])\n",
    "            rt += 1\n",
    "    # Add remaining elements to ret from each list\n",
    "    while lt < len(left):\n",
    "        ret.append(left[lt])\n",
    "        lt += 1\n",
    "    while rt < len(right):\n",
    "        ret.append(right[rt])\n",
    "        rt += 1\n",
    "    return ret\n",
    "\n",
    "def test():\n",
    "    a = [3,21,5,3,6,7,8,2,3,5,1,24,0]\n",
    "    print(\"original list: \", a)\n",
    "    print(\"sorted list: \", mergesort(a))\n",
    "test()\n",
    "    "
   ]
  },
  {
   "cell_type": "markdown",
   "metadata": {},
   "source": [
    "## Binary Search\n",
    "Search **A SORTED ARRAY** by repeatedly dividing the search interval in \n",
    "half depending on the relationship (<, >, =) of the search key to the item\n",
    "in the middle of the array.  \n",
    "- Time: O(n)"
   ]
  },
  {
   "cell_type": "code",
   "execution_count": 2,
   "metadata": {
    "pycharm": {
     "name": "#%%\n"
    }
   },
   "outputs": [
    {
     "name": "stdout",
     "output_type": "stream",
     "text": [
      "0 0\n",
      "1 Not found\n",
      "2 1\n",
      "3 2\n",
      "4 4\n",
      "5 Not found\n",
      "6 Not found\n",
      "7 Not found\n",
      "8 Not found\n",
      "9 Not found\n",
      "10 Not found\n",
      "11 Not found\n",
      "12 Not found\n",
      "13 Not found\n",
      "14 Not found\n",
      "15 6\n",
      "16 7\n",
      "17 Not found\n",
      "18 Not found\n",
      "19 Not found\n",
      "20 Not found\n",
      "21 8\n"
     ]
    }
   ],
   "source": [
    "def binarySearch(arr, l, r, key):\n",
    "    if r >= l:\n",
    "        mid = (l+r)//2\n",
    "        if arr[mid] == key:\n",
    "            return mid\n",
    "        # Add/sub 1 because we established middle element != key\n",
    "        # Also needed for base case\n",
    "        elif arr[mid] > key:\n",
    "            return binarySearch(arr, l, mid - 1, key) \n",
    "        else:\n",
    "            return binarySearch(arr, mid + 1, r, key)\n",
    "    else:\n",
    "        return \"Not found\"\n",
    "def test():\n",
    "    arr = [0,2,3,3,4,4,15,16,21]\n",
    "    for i in range(max(arr)+1):\n",
    "        print(i, binarySearch(arr, 0, len(arr), i))\n",
    "    \n",
    "test()"
   ]
  },
  {
   "cell_type": "markdown",
   "metadata": {},
   "source": [
    "## Depth First Search\n",
    "Traverse a tree or graph data structure from an arbitrary node. Explore as far as possible until no adjacent nodes\n",
    "remain unvisited then backtrack until an unvisited node is found and explore as far as possible again until the desired \n",
    "node is found or all nodes are visited.  \n",
    "\n",
    ">`defaultdict` is a subclass of the `dict` class which returns a dictionary like object. Notably, `defaultdict` never\n",
    "raises `KeyError` when a non-existant key is given, instead providing a default value for the non-existant key such as\n",
    "\"Not present.\"  \n",
    "\n",
    "Example:"
   ]
  },
  {
   "cell_type": "code",
   "execution_count": 6,
   "metadata": {},
   "outputs": [
    {
     "name": "stdout",
     "output_type": "stream",
     "text": [
      "0\n",
      "1\n",
      "2\n",
      "3\n",
      "4\n"
     ]
    }
   ],
   "source": [
    "def exist(board, word):\n",
    "    '''dfs problem'''\n",
    "    max_y = len(board) -1\n",
    "    max_x = len(board[0])-1\n",
    "\n",
    "    def dfs(index, s, board):\n",
    "        # Basecase\n",
    "        if s == \"\":\n",
    "            return True\n",
    "        # Mark visited\n",
    "        temp = str(board[index[0]][index[1]])\n",
    "        board[index[0]][index[1]] = \"#\"\n",
    "        # Check up/down/left/right for valid moves\n",
    "        for y, x in (index[0] - 1, index[1]), (index[0] + 1, index[1]), (index[0], index[1] - 1), (index[0], index[1] + 1):\n",
    "            if 0 <= y <= max_y and 0 <= x <= max_x and s[0] == board[y][x]:\n",
    "                if dfs((y,x), s[1:], board):\n",
    "                    return True\n",
    "        # Unmark visited\n",
    "        board[index[0]][index[1]] = temp\n",
    "        return False\n",
    "\n",
    "    # Iterate looking for starting points (word[0])\n",
    "    for y in range(max_y + 1):\n",
    "        for x in range(max_x + 1):\n",
    "            if board[y][x] == word[0]:\n",
    "                s = word[1:]\n",
    "                if dfs((y,x), s, board):\n",
    "                    return True\n",
    "    return False"
   ]
  },
  {
   "cell_type": "markdown",
   "source": [
    "## Breadth first search\n",
    "Traverse a tree or graph from an arbitrary node. Explore each level of depth entirely before moving to the next\n",
    "level.\n",
    ">Create a queue\n",
    ">visit root\n",
    ">add root to the queue\n",
    ">While queue is not empty\n",
    ">>dequeue\n",
    ">>>if goal is found:\n",
    ">>>>return it\n",
    ">>>else:\n",
    ">>>>>for each adjacent node\n",
    ">>>>>visit\n",
    ">>>>>enqueue"
   ],
   "metadata": {
    "collapsed": false
   }
  },
  {
   "cell_type": "code",
   "execution_count": null,
   "outputs": [],
   "source": [
    "from collections import defaultdict\n",
    "class Graph:\n",
    "    def __init__(self):\n",
    "        self.graph = defaultdict(list)\n",
    "    def addEdge(self, node, connectsTo):\n",
    "        self.graph[node].append(connectsTo)\n",
    "    def bfs(self, root):\n",
    "        visited = [False] * len(self.graph)\n",
    "        q = []\n",
    "        q.append(root)\n",
    "        visited[root] = True\n",
    "        while q:\n",
    "            s = q.pop(0)\n",
    "            for node in self.graph[s]:\n",
    "                if visited[node] == False:\n",
    "                    visited[node] = True\n",
    "                    q.append[node]\n",
    "\n"
   ],
   "metadata": {
    "collapsed": false,
    "pycharm": {
     "name": "#%%\n"
    }
   }
  },
  {
   "cell_type": "code",
   "execution_count": 1,
   "outputs": [
    {
     "ename": "SyntaxError",
     "evalue": "'return' outside function (<ipython-input-1-5dcc0e581618>, line 8)",
     "output_type": "error",
     "traceback": [
      "\u001B[0;36m  File \u001B[0;32m\"<ipython-input-1-5dcc0e581618>\"\u001B[0;36m, line \u001B[0;32m8\u001B[0m\n\u001B[0;31m    return left == right\u001B[0m\n\u001B[0m    ^\u001B[0m\n\u001B[0;31mSyntaxError\u001B[0m\u001B[0;31m:\u001B[0m 'return' outside function\n"
     ]
    }
   ],
   "source": [
    "s = \"abba\"\n",
    "\n",
    "\n",
    "mid = (len(s)//2)\n",
    "if len(s)%2 == 1:\n",
    "    left = s[:mid]\n",
    "    right = s[-1:mid:-1]\n",
    "    return left == right\n",
    "else:\n",
    "    left = s[:mid]\n",
    "    right = s[-1:mid-1:-1]\n",
    "    return left == right"
   ],
   "metadata": {
    "collapsed": false,
    "pycharm": {
     "name": "#%%\n"
    }
   }
  },
  {
   "cell_type": "code",
   "execution_count": null,
   "outputs": [],
   "source": [],
   "metadata": {
    "collapsed": false,
    "pycharm": {
     "name": "#%%\n"
    }
   }
  },
  {
   "cell_type": "code",
   "execution_count": null,
   "outputs": [],
   "source": [],
   "metadata": {
    "collapsed": false,
    "pycharm": {
     "name": "#%%\n"
    }
   }
  }
 ],
 "metadata": {
  "kernelspec": {
   "name": "python3",
   "language": "python",
   "display_name": "Python 3"
  },
  "language_info": {
   "codemirror_mode": {
    "name": "ipython",
    "version": 2
   },
   "file_extension": ".py",
   "mimetype": "text/x-python",
   "name": "python",
   "nbconvert_exporter": "python",
   "pygments_lexer": "ipython2",
   "version": "2.7.16"
  },
  "pycharm": {
   "stem_cell": {
    "cell_type": "raw",
    "source": [],
    "metadata": {
     "collapsed": false
    }
   }
  }
 },
 "nbformat": 4,
 "nbformat_minor": 1
}