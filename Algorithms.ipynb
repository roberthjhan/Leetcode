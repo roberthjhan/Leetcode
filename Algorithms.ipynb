{
 "cells": [
  {
   "cell_type": "markdown",
   "source": [
    "# Algorithms\n",
    "---"
   ],
   "metadata": {
    "collapsed": false
   }
  },
  {
   "cell_type": "markdown",
   "source": [
    "## Quicksort\n",
    "Divide and conquer strategy using pivots.  \n",
    "- Performance based on pivot value\n",
    "- Worst case: O(n^2)\n",
    "- Average case: O(nlog(n))  \n",
    "\n",
    "\n",
    "I couldnt really understand my notes from \n",
    "class so I'm trying to walk through an example \n",
    "by annotating it."
   ],
   "metadata": {
    "collapsed": false
   }
  },
  {
   "cell_type": "code",
   "execution_count": 10,
   "outputs": [
    {
     "name": "stdout",
     "text": [
      "original list:  [3, 21, 5, 3, 6, 7, 8, 2, 3, 5, 1, 24, 0]\n",
      "pointer -1\n",
      "pointer 0\n",
      "pointer 0\n",
      "pointer 3\n",
      "pointer 4\n",
      "pointer 4\n",
      "pointer 8\n",
      "pointer 9\n",
      "pointer 10\n",
      "sorted list:  [0, 1, 2, 3, 3, 3, 5, 5, 6, 7, 8, 21, 24]\n"
     ],
     "output_type": "stream"
    }
   ],
   "source": [
    "def partition(arr, first, last):\n",
    "    pivot = arr[last]\n",
    "    pointer = first-1\n",
    "    \n",
    "    for i in range(first, last):\n",
    "        # If current element < pivot\n",
    "        if arr[i] < pivot:\n",
    "            pointer += 1 # Increment pointer\n",
    "            # Swap element at pointer with current element so every \n",
    "            # element left of the pointer is less than the pivot.\n",
    "            arr[pointer], arr[i] = arr[i], arr[pointer] \n",
    "    # Swap element after pointer with pivot\n",
    "    arr[pointer+1], arr[last] = arr[last], arr[pointer+1]\n",
    "    return pointer+1\n",
    "\n",
    "def quicksort(arr, first, last):\n",
    "    # Recursively call quicksort until first == last\n",
    "    if first < last:\n",
    "        part = partition(arr, first, last)\n",
    "        # Sort elements before and after partition separately\n",
    "        quicksort(arr, first, part-1)\n",
    "        quicksort(arr, part+1, last)\n",
    "        \n",
    "def test():\n",
    "    a = [3,21,5,3,6,7,8,2,3,5,1,24,0]\n",
    "    n = len(a)-1\n",
    "    print(\"original list: \", a)\n",
    "    quicksort(a, 0, n)\n",
    "    print(\"sorted list: \", a)\n",
    "test()"
   ],
   "metadata": {
    "collapsed": false,
    "pycharm": {
     "name": "#%%\n",
     "is_executing": false
    }
   }
  },
  {
   "cell_type": "markdown",
   "source": [
    "## Mergesort\n",
    "Using recursion divide the list in half until the smallest components are\n",
    "found. Merge the components and sort up to the full list.  \n",
    "- Best/worst: O(nlog(n))"
   ],
   "metadata": {
    "collapsed": false
   }
  },
  {
   "cell_type": "code",
   "execution_count": 4,
   "outputs": [
    {
     "name": "stdout",
     "text": [
      "original list:  [3, 21, 5, 3, 6, 7, 8, 2, 3, 5, 1, 24, 0]\n",
      "sorted list:  [0, 1, 2, 3, 3, 3, 5, 5, 6, 7, 8, 21, 24]\n"
     ],
     "output_type": "stream"
    }
   ],
   "source": [
    "def mergesort(arr):\n",
    "    \n",
    "    if len(arr) <= 1:\n",
    "        return arr\n",
    "    # Divide list\n",
    "    mid = len(arr)//2\n",
    "    # Recursively divide arr\n",
    "    left = mergesort(arr[:mid])\n",
    "    right = mergesort(arr[mid:])\n",
    "    return merge(left, right)\n",
    "    \n",
    "def merge(left, right):\n",
    "    ret = []\n",
    "    lt = 0 # Used to iterate through left and right\n",
    "    rt = 0\n",
    "    # Sort elements by comparison\n",
    "    while lt < len(left) and rt < len(right):\n",
    "        if left[lt] < right[rt]:\n",
    "            ret.append(left[lt])\n",
    "            lt += 1\n",
    "        else:\n",
    "            ret.append(right[rt])\n",
    "            rt += 1\n",
    "    # Add remaining elements to ret from each list\n",
    "    while lt < len(left):\n",
    "        ret.append(left[lt])\n",
    "        lt += 1\n",
    "    while rt < len(right):\n",
    "        ret.append(right[rt])\n",
    "        rt += 1\n",
    "    return ret\n",
    "\n",
    "def test():\n",
    "    a = [3,21,5,3,6,7,8,2,3,5,1,24,0]\n",
    "    print(\"original list: \", a)\n",
    "    print(\"sorted list: \", mergesort(a))\n",
    "test()\n",
    "    "
   ],
   "metadata": {
    "collapsed": false,
    "pycharm": {
     "name": "#%%\n",
     "is_executing": false
    }
   }
  },
  {
   "cell_type": "markdown",
   "source": [
    "## Binary Search\n",
    "Search **A SORTED ARRAY** by repeatedly dividing the search interval in \n",
    "half depending on the relationship (<, >, =) of the search key to the item\n",
    "in the middle of the array.  \n",
    "- Time: O(n)"
   ],
   "metadata": {
    "collapsed": false
   }
  },
  {
   "cell_type": "code",
   "execution_count": 13,
   "outputs": [
    {
     "name": "stdout",
     "text": [
      "0 0\n",
      "1 not found\n",
      "2 1\n",
      "3 2\n",
      "4 4\n",
      "5 not found\n",
      "6 not found\n",
      "7 not found\n",
      "8 not found\n",
      "9 not found\n",
      "10 not found\n",
      "11 not found\n",
      "12 not found\n",
      "13 not found\n",
      "14 not found\n",
      "15 6\n",
      "16 7\n",
      "17 not found\n",
      "18 not found\n",
      "19 not found\n"
     ],
     "output_type": "stream"
    }
   ],
   "source": [
    "def binarySearch(arr, l, r, key):\n",
    "    if r >= l:\n",
    "        mid = (l + r) // 2\n",
    "        if arr[mid] == key:\n",
    "            return mid\n",
    "        # Add/sub 1 because we established middle element != key\n",
    "        # Also needed for base case\n",
    "        elif key < arr[mid]:\n",
    "            return binarySearch(arr, l, mid - 1, key) \n",
    "        else:\n",
    "            return binarySearch(arr, mid + 1, r, key)\n",
    "    else:\n",
    "        return \"Not found\"\n",
    "def test():\n",
    "    arr = [0,2,3,3,4,4,15,16,20]\n",
    "    for i in range(max(arr)):\n",
    "        print(i, binarySearch(arr, 0, len(arr), i))\n",
    "    \n",
    "test()"
   ],
   "metadata": {
    "collapsed": false,
    "pycharm": {
     "name": "#%%\n",
     "is_executing": false
    }
   }
  }
 ],
 "metadata": {
  "kernelspec": {
   "display_name": "Python 3",
   "language": "python",
   "name": "python3"
  },
  "language_info": {
   "codemirror_mode": {
    "name": "ipython",
    "version": 2
   },
   "file_extension": ".py",
   "mimetype": "text/x-python",
   "name": "python",
   "nbconvert_exporter": "python",
   "pygments_lexer": "ipython2",
   "version": "2.7.6"
  },
  "pycharm": {
   "stem_cell": {
    "cell_type": "raw",
    "source": [],
    "metadata": {
     "collapsed": false
    }
   }
  }
 },
 "nbformat": 4,
 "nbformat_minor": 0
}