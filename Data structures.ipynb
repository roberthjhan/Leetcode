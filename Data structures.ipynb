{
 "cells": [
  {
   "cell_type": "markdown",
   "source": [
    "# Basic data structures and also jupyter practice"
   ],
   "metadata": {
    "collapsed": false,
    "pycharm": {
     "name": "#%% md\n"
    }
   }
  },
  {
   "cell_type": "markdown",
   "source": [
    "# Stack\n",
    "A LIFO, linear data structure.\n",
    "___\n",
    "## Methods\n",
    "- Push\n",
    "- Pop\n",
    "\n",
    "## Built-in implementations\n",
    "- A list with `.pop()` and `.append()`\n",
    "- *collections.dequeue* module (`.pop()`, `.append()`)  \n",
    "` from collections import dequeue`  \n",
    "` stack = dequeue()`  "
   ],
   "metadata": {
    "collapsed": false
   }
  },
  {
   "cell_type": "code",
   "execution_count": 4,
   "outputs": [
    {
     "name": "stdout",
     "text": [
      "deque([0, 1, 2, 3, 4])\n",
      "top of stack = 4\n"
     ],
     "output_type": "stream"
    }
   ],
   "source": [
    "from collections import deque\n",
    "stack = deque()\n",
    "for i in range(5):\n",
    "    stack.append(i)\n",
    "print(stack)\n",
    "print(\"top of stack =\", stack.pop())"
   ],
   "metadata": {
    "collapsed": false,
    "pycharm": {
     "name": "#%%\n",
     "is_executing": false
    }
   }
  },
  {
   "cell_type": "markdown",
   "source": [
    "# Linked List\n",
    "A linear data structure with elements that point to other elements\n",
    "Random access not allowed, sequential only.\n",
    "___\n",
    "## Methods\n",
    "- insert/remove before/after a node\n",
    "- remove a node\n",
    "- sort\n",
    "- search\n",
    "\n",
    "## Implementation"
   ],
   "metadata": {
    "collapsed": false
   }
  },
  {
   "cell_type": "code",
   "execution_count": null,
   "outputs": [],
   "source": [
    "# Node\n",
    "class ListNode:\n",
    "    def __init__(self, data):\n",
    "        self.data = data\n",
    "        self.next = None\n",
    "        self.prev = None\n",
    "class DLinkedList:\n",
    "    def __init__(self):\n",
    "        self.head = None\n",
    "        self.tail = None\n",
    "        self.size = 0\n",
    "    def insertHead(self, data):\n",
    "        new_node = ListNode(data)\n",
    "        if self.size != 0:\n",
    "            new_node.next = self.head\n",
    "            self.head.prev = new_node\n",
    "        elif self.size == 0:\n",
    "            self.tail = new_node\n",
    "        self.head = new_node\n",
    "        self.size += 1\n",
    "    def remove(self, node):\n",
    "        if self.size == 0:\n",
    "            return \"Empty list!\"\n",
    "        if self.head == node:\n",
    "            node.next.prev = None\n",
    "            self.head = node.next\n",
    "        elif self.tail == node:\n",
    "            node.prev.next = None\n",
    "            self.tail = node.prev\n",
    "        else:\n",
    "            node.prev = node.next\n",
    "            node.next.prev = node.prev\n",
    "        self.size -= 1\n",
    "    def quicksort(self):\n",
    "            pass\n",
    "            \n",
    "        \n"
   ],
   "metadata": {
    "collapsed": false,
    "pycharm": {
     "name": "#%%\n"
    }
   }
  }
 ],
 "metadata": {
  "kernelspec": {
   "display_name": "Python 3",
   "language": "python",
   "name": "python3"
  },
  "language_info": {
   "codemirror_mode": {
    "name": "ipython",
    "version": 2
   },
   "file_extension": ".py",
   "mimetype": "text/x-python",
   "name": "python",
   "nbconvert_exporter": "python",
   "pygments_lexer": "ipython2",
   "version": "2.7.6"
  },
  "pycharm": {
   "stem_cell": {
    "cell_type": "raw",
    "source": [],
    "metadata": {
     "collapsed": false
    }
   }
  }
 },
 "nbformat": 4,
 "nbformat_minor": 0
}