{
 "cells": [
  {
   "cell_type": "markdown",
   "source": [
    "# Basic data structures and also jupyter practice"
   ],
   "metadata": {
    "collapsed": false,
    "pycharm": {
     "name": "#%% md\n"
    }
   }
  },
  {
   "cell_type": "markdown",
   "source": [
    "# Stack\n",
    "A LIFO, linear data structure.\n",
    "___\n",
    "## Methods\n",
    "- Push\n",
    "- Pop\n",
    "\n",
    "## Built-in implementations\n",
    "- A list with `.pop()` and `.append()`\n",
    "- *collections.dequeue* module (`.pop()`, `.append()`)  \n",
    "` from collections import dequeue`  \n",
    "` stack = dequeue()`  "
   ],
   "metadata": {
    "collapsed": false
   }
  },
  {
   "cell_type": "code",
   "execution_count": 4,
   "outputs": [
    {
     "name": "stdout",
     "text": [
      "deque([0, 1, 2, 3, 4])\n",
      "top of stack = 4\n"
     ],
     "output_type": "stream"
    }
   ],
   "source": [
    "from collections import deque\n",
    "stack = deque()\n",
    "for i in range(5):\n",
    "    stack.append(i)\n",
    "print(stack)\n",
    "print(\"top of stack =\", stack.pop())"
   ],
   "metadata": {
    "collapsed": false,
    "pycharm": {
     "name": "#%%\n",
     "is_executing": false
    }
   }
  },
  {
   "cell_type": "markdown",
   "source": [
    "# Linked List\n",
    "A linear data structure with elements that point to other elements\n",
    "Random access not allowed, sequential only.\n",
    "___\n",
    "## Methods\n",
    "- insert/remove before/after a node\n",
    "- remove a node\n",
    "- sort\n",
    "- search\n",
    "\n",
    "## Implementation"
   ],
   "metadata": {
    "collapsed": false
   }
  },
  {
   "cell_type": "code",
   "execution_count": null,
   "outputs": [],
   "source": [
    "# Node\n",
    "class ListNode:\n",
    "    def __init__(self, data):\n",
    "        self.data = data\n",
    "        self.next = None\n",
    "        self.prev = None\n",
    "class DLinkedList:\n",
    "    def __init__(self):\n",
    "        self.head = None\n",
    "        self.tail = None\n",
    "        self.size = 0\n",
    "    def insertHead(self, data):\n",
    "        new_node = ListNode(data)\n",
    "        if self.size != 0:\n",
    "            new_node.next = self.head\n",
    "            self.head.prev = new_node\n",
    "        elif self.size == 0:\n",
    "            self.tail = new_node\n",
    "        self.head = new_node\n",
    "        self.size += 1\n",
    "    def remove(self, node):\n",
    "        if self.size == 0:\n",
    "            return \"Empty list!\"\n",
    "        if self.head == node:\n",
    "            node.next.prev = None\n",
    "            self.head = node.next\n",
    "        elif self.tail == node:\n",
    "            node.prev.next = None\n",
    "            self.tail = node.prev\n",
    "        else:\n",
    "            node.prev = node.next\n",
    "            node.next.prev = node.prev\n",
    "        self.size -= 1\n",
    "    def quicksort(self):\n",
    "            pass\n",
    "            \n",
    "        "
   ],
   "metadata": {
    "collapsed": false,
    "pycharm": {
     "name": "#%%\n"
    }
   }
  },
  {
   "cell_type": "markdown",
   "source": [
    "# Binary Search Tree\n",
    "Fast lookup and insertion/deletion operations\n",
    "binary search property, which states that the key in each node must be greater\n",
    "than or equal to any key stored in the left sub-tree, and less than or equal to\n",
    "any key stored in the right sub-tree."
   ],
   "metadata": {
    "collapsed": false
   }
  },
  {
   "cell_type": "code",
   "execution_count": 23,
   "outputs": [
    {
     "name": "stdout",
     "output_type": "stream",
     "text": [
      "ok\n",
      "ok\n"
     ]
    },
    {
     "ename": "TypeError",
     "evalue": "'>' not supported between instances of 'int' and 'str'",
     "output_type": "error",
     "traceback": [
      "\u001B[0;31m---------------------------------------------------------------------------\u001B[0m",
      "\u001B[0;31mTypeError\u001B[0m                                 Traceback (most recent call last)",
      "\u001B[0;32m<ipython-input-23-3af3f1403a26>\u001B[0m in \u001B[0;36m<module>\u001B[0;34m\u001B[0m\n\u001B[1;32m     26\u001B[0m \u001B[0mkeys\u001B[0m \u001B[0;34m=\u001B[0m \u001B[0;34m[\u001B[0m\u001B[0;36m1\u001B[0m\u001B[0;34m,\u001B[0m\u001B[0;36m2\u001B[0m\u001B[0;34m,\u001B[0m\u001B[0;36m3\u001B[0m\u001B[0;34m,\u001B[0m\u001B[0;36m4\u001B[0m\u001B[0;34m,\u001B[0m\u001B[0;36m3\u001B[0m\u001B[0;34m,\u001B[0m\u001B[0;36m2\u001B[0m\u001B[0;34m,\u001B[0m\u001B[0;36m34\u001B[0m\u001B[0;34m,\u001B[0m\u001B[0;36m12\u001B[0m\u001B[0;34m,\u001B[0m\u001B[0;36m23\u001B[0m\u001B[0;34m,\u001B[0m\u001B[0;36m19\u001B[0m\u001B[0;34m,\u001B[0m \u001B[0;34m\"l\"\u001B[0m\u001B[0;34m]\u001B[0m\u001B[0;34m\u001B[0m\u001B[0;34m\u001B[0m\u001B[0m\n\u001B[1;32m     27\u001B[0m \u001B[0;32mfor\u001B[0m \u001B[0mi\u001B[0m \u001B[0;32min\u001B[0m \u001B[0mkeys\u001B[0m\u001B[0;34m:\u001B[0m\u001B[0;34m\u001B[0m\u001B[0;34m\u001B[0m\u001B[0m\n\u001B[0;32m---> 28\u001B[0;31m     \u001B[0mroot\u001B[0m \u001B[0;34m=\u001B[0m \u001B[0minsert\u001B[0m\u001B[0;34m(\u001B[0m\u001B[0mroot\u001B[0m\u001B[0;34m,\u001B[0m \u001B[0mi\u001B[0m\u001B[0;34m)\u001B[0m\u001B[0;34m\u001B[0m\u001B[0;34m\u001B[0m\u001B[0m\n\u001B[0m\u001B[1;32m     29\u001B[0m \u001B[0minorder\u001B[0m\u001B[0;34m(\u001B[0m\u001B[0mroot\u001B[0m\u001B[0;34m)\u001B[0m\u001B[0;34m\u001B[0m\u001B[0;34m\u001B[0m\u001B[0m\n",
      "\u001B[0;32m<ipython-input-23-3af3f1403a26>\u001B[0m in \u001B[0;36minsert\u001B[0;34m(root, data)\u001B[0m\n\u001B[1;32m      9\u001B[0m     \u001B[0;32mif\u001B[0m \u001B[0mroot\u001B[0m \u001B[0;32mis\u001B[0m \u001B[0;32mNone\u001B[0m\u001B[0;34m:\u001B[0m\u001B[0;34m\u001B[0m\u001B[0;34m\u001B[0m\u001B[0m\n\u001B[1;32m     10\u001B[0m         \u001B[0;32mreturn\u001B[0m \u001B[0mBTNode\u001B[0m\u001B[0;34m(\u001B[0m\u001B[0mdata\u001B[0m\u001B[0;34m)\u001B[0m\u001B[0;34m\u001B[0m\u001B[0;34m\u001B[0m\u001B[0m\n\u001B[0;32m---> 11\u001B[0;31m     \u001B[0;32mif\u001B[0m \u001B[0mroot\u001B[0m\u001B[0;34m.\u001B[0m\u001B[0mdata\u001B[0m \u001B[0;34m>\u001B[0m \u001B[0mdata\u001B[0m\u001B[0;34m:\u001B[0m\u001B[0;34m\u001B[0m\u001B[0;34m\u001B[0m\u001B[0m\n\u001B[0m\u001B[1;32m     12\u001B[0m         \u001B[0mroot\u001B[0m\u001B[0;34m.\u001B[0m\u001B[0mleft\u001B[0m \u001B[0;34m=\u001B[0m \u001B[0minsert\u001B[0m\u001B[0;34m(\u001B[0m\u001B[0mroot\u001B[0m\u001B[0;34m.\u001B[0m\u001B[0mleft\u001B[0m\u001B[0;34m,\u001B[0m \u001B[0mdata\u001B[0m\u001B[0;34m)\u001B[0m\u001B[0;34m\u001B[0m\u001B[0;34m\u001B[0m\u001B[0m\n\u001B[1;32m     13\u001B[0m     \u001B[0;32melse\u001B[0m\u001B[0;34m:\u001B[0m \u001B[0;31m# root.data <= data\u001B[0m\u001B[0;34m\u001B[0m\u001B[0;34m\u001B[0m\u001B[0m\n",
      "\u001B[0;31mTypeError\u001B[0m: '>' not supported between instances of 'int' and 'str'"
     ]
    }
   ],
   "source": [
    "\"\"\"Notebook won't print out my inorder traversal for some reason...\"\"\"\n",
    "class BTNode:\n",
    "    def __init__(self, data):\n",
    "        self.data = data\n",
    "        self.left = None\n",
    "        self.right = None\n",
    "def insert(root, data):\n",
    "    \"\"\"Convert data to node and insert it appropriately\"\"\"\n",
    "    if root is None:\n",
    "        return BTNode(data)\n",
    "    if root.data > data:\n",
    "        root.left = insert(root.left, data)\n",
    "    else: # root.data <= data\n",
    "        root.right = insert(root.right, data)\n",
    "    return root\n",
    "\n",
    "def inorder(root):\n",
    "    if root is None:\n",
    "        return\n",
    "    inorder(root.left)\n",
    "    print(root.data, end=\" \")\n",
    "    inorder(root.right)\n",
    "\n",
    "def search(parent, root, find):\n",
    "    if root is None:\n",
    "        return \"Empty tree\"\n",
    "    if root.data == find:\n",
    "        if parent == None:\n",
    "            return root.data\n",
    "\n",
    "\n",
    "print(\"ok\")\n",
    "root = None\n",
    "keys = [1,2,3,4,3,2,34,12,23,19]\n",
    "for i in keys:\n",
    "    root = insert(root, i)\n",
    "inorder(root)"
   ],
   "metadata": {
    "collapsed": false,
    "pycharm": {
     "name": "#%%\n"
    }
   }
  },
  {
   "cell_type": "markdown",
   "source": [],
   "metadata": {
    "collapsed": false
   }
  },
  {
   "cell_type": "code",
   "execution_count": 8,
   "outputs": [
    {
     "name": "stdout",
     "output_type": "stream",
     "text": [
      "ok\n"
     ]
    }
   ],
   "source": [
    "print(\"ok\")"
   ],
   "metadata": {
    "collapsed": false,
    "pycharm": {
     "name": "#%%\n"
    }
   }
  }
 ],
 "metadata": {
  "kernelspec": {
   "display_name": "Python 3",
   "language": "python",
   "name": "python3"
  },
  "language_info": {
   "codemirror_mode": {
    "name": "ipython",
    "version": 2
   },
   "file_extension": ".py",
   "mimetype": "text/x-python",
   "name": "python",
   "nbconvert_exporter": "python",
   "pygments_lexer": "ipython2",
   "version": "2.7.6"
  }
 },
 "nbformat": 4,
 "nbformat_minor": 0
}