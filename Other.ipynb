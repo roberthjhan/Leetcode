{
 "cells": [
  {
   "cell_type": "markdown",
   "metadata": {
    "collapsed": true,
    "pycharm": {
     "name": "#%% md\n"
    }
   },
   "source": [
    "About this notebook:\n",
    "\n",
    "\n",
    "\n"
   ]
  },
  {
   "cell_type": "markdown",
   "source": [
    "# A little about Dynamic Programming\n",
    "---\n",
    "Dynamic programming is a technique by which recomputation is minimized \n",
    "by storing theresults of subproblems. This is a tradeoff of time for \n",
    "space. It is based on the idea that the optimal solution to a problem \n",
    "depends on the optimal solutions to its subproblems.\n",
    "- Dynamic programming is a good approach for problems where a recursive \n",
    "solution requires repeated calls for the same inputs.\n",
    "\n"
   ],
   "metadata": {
    "collapsed": false
   }
  },
  {
   "cell_type": "code",
   "execution_count": 11,
   "outputs": [
    {
     "name": "stdout",
     "text": [
      "[1, 2, 3, 4, 5, 6, 8, 9, 10, 12, 15, 16, 18, 20, 24, 25, 27, 30, 32, 36, 40, 45, 48, 50, 54, 60, 64, 72, 75, 80, 81, 90, 96, 100, 108, 120, 125, 128, 135, 144, 150, 160, 162, 180, 192, 200, 216, 225, 240, 243, 250, 256, 270, 288, 300, 320, 324, 360, 375, 384, 400, 405, 432, 450, 480, 486, 500, 512, 540, 576, 600, 625, 640, 648, 675, 720, 729, 750, 768, 800, 810, 864, 900, 960, 972, 1000, 1024, 1080, 1125, 1152, 1200, 1215, 1250, 1280, 1296, 1350, 1440, 1458, 1500, 1536, 1600, 1620, 1728, 1800, 1875, 1920, 1944, 2000, 2025, 2048, 2160, 2187, 2250, 2304, 2400, 2430, 2500, 2560, 2592, 2700, 2880, 2916, 3000, 3072, 3125, 3200, 3240, 3375, 3456, 3600, 3645, 3750, 3840, 3888, 4000, 4050, 4096, 4320, 4374, 4500, 4608, 4800, 4860, 5000, 5120, 5184, 5400, 5625, 5760, 5832]\n",
      "5832\n"
     ],
     "output_type": "stream"
    }
   ],
   "source": [
    "\"\"\"Ugly Numbers\n",
    "\n",
    "Ugly numbers are numbers whose only prime factors are 2, 3 or 5. \n",
    "The sequence 1, 2, 3, 4, 5, 6, 8, 9, 10, 12, 15, … shows the \n",
    "first 11 ugly numbers. By convention, 1 is included.\n",
    "\n",
    "Given a number n, the task is to find n’th Ugly number.\n",
    "\"\"\"\n",
    "\n",
    "def getNthUglynumber(n):\n",
    "    \n",
    "    numbers = [0] * n\n",
    "    # First Ugly number\n",
    "    numbers[0] = 1\n",
    "    # Indicies of 2, 3, and 5\n",
    "    i2 = i3 = i5 = 0\n",
    "    # Add in order to numbers# 2, 4, 8, 16, 32...\n",
    "    next_2 = 2 \n",
    "    next_3 = 3 # 3, 9, 27, 81, 243...\n",
    "    next_5 = 5 # 5, 25, 125, 625, 3125...\n",
    "    \n",
    "    for i in range(1,n):\n",
    "        numbers[i] = min(next_2, next_3, next_5)\n",
    "        if numbers[i] == next_2:\n",
    "            i2 += 1\n",
    "            next_2 = numbers[i2] * 2\n",
    "        if numbers[i] == next_3:\n",
    "            i3 += 1\n",
    "            next_3 = numbers[i3] * 3\n",
    "        if numbers[i] == next_5:\n",
    "            i5 += 1\n",
    "            next_5 = numbers[i5] * 5\n",
    "    print(numbers)\n",
    "    return numbers[-1]\n",
    "print(getNthUglynumber(150))"
   ],
   "metadata": {
    "collapsed": false,
    "pycharm": {
     "name": "#%%\n",
     "is_executing": false
    }
   }
  },
  {
   "cell_type": "code",
   "execution_count": 1,
   "outputs": [
    {
     "name": "stdout",
     "text": [
      "[1, 1, 0, 1, 0]\n",
      "[0, 1, 1, 1, 0]\n",
      "[1, 1, 1, 1, 0]\n",
      "[0, 1, 1, 1, 1]\n",
      "--------------------\n",
      "[1, 1, 0, 1, 0]\n",
      "[0, 1, 1, 1, 0]\n",
      "[1, 1, 2, 2, 0]\n",
      "[0, 1, 2, 3, 1]\n",
      "3\n"
     ],
     "output_type": "stream"
    }
   ],
   "source": [
    "def largestSquare(arr):\n",
    "    \"\"\"Solve each square and save it\"\"\"\n",
    "    c = arr # Cache for storing computations\n",
    "    for i in c:\n",
    "        print(i)\n",
    "    # Won't touch arr[0] or arr[n][0] because they can't be bottom right corners\n",
    "    for row in range(1, len(arr)):\n",
    "        for col in range(1, len(arr[0])):\n",
    "            if arr[row][col] > 0: # 0s can't make squares\n",
    "                c[row][col] = min(c[row-1][col-1], c[row][col-1], c[row-1][col]) + arr[row][col]\n",
    "                # Minimum of surrounding squares + current square = maximum size square\n",
    "    print(\"-\" *20)\n",
    "    for i in c:\n",
    "        print(i)\n",
    "    return max([max(i) for i in c])\n",
    "\n",
    "arr = [[1,1,0,1,0],\n",
    "       [0,1,1,1,0],\n",
    "       [1,1,1,1,0],\n",
    "       [0,1,1,1,1]]\n",
    "print(largestSquare(arr))\n",
    " \n"
   ],
   "metadata": {
    "collapsed": false,
    "pycharm": {
     "name": "#%%\n",
     "is_executing": false
    }
   }
  }
 ],
 "metadata": {
  "kernelspec": {
   "display_name": "Python 3",
   "language": "python",
   "name": "python3"
  },
  "language_info": {
   "codemirror_mode": {
    "name": "ipython",
    "version": 2
   },
   "file_extension": ".py",
   "mimetype": "text/x-python",
   "name": "python",
   "nbconvert_exporter": "python",
   "pygments_lexer": "ipython2",
   "version": "2.7.6"
  },
  "pycharm": {
   "stem_cell": {
    "cell_type": "raw",
    "source": [],
    "metadata": {
     "collapsed": false
    }
   }
  }
 },
 "nbformat": 4,
 "nbformat_minor": 0
}